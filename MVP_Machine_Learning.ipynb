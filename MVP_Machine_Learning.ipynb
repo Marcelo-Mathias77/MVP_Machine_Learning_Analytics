{
  "nbformat": 4,
  "nbformat_minor": 0,
  "metadata": {
    "colab": {
      "provenance": [],
      "authorship_tag": "ABX9TyNuu/wUT4B/YqaD9sDvsDWT",
      "include_colab_link": true
    },
    "kernelspec": {
      "name": "python3",
      "display_name": "Python 3"
    },
    "language_info": {
      "name": "python"
    }
  },
  "cells": [
    {
      "cell_type": "markdown",
      "metadata": {
        "id": "view-in-github",
        "colab_type": "text"
      },
      "source": [
        "<a href=\"https://colab.research.google.com/github/Marcelo-Mathias77/MVP_Machine_Learning_Analytics/blob/main/MVP_Machine_Learning.ipynb\" target=\"_parent\"><img src=\"https://colab.research.google.com/assets/colab-badge.svg\" alt=\"Open In Colab\"/></a>"
      ]
    },
    {
      "cell_type": "markdown",
      "source": [
        "# **MVP Machine Learning & Analytics**\n",
        "\n",
        "**Nome:** Marcelo Chagas Mathias Netto\n",
        "\n",
        "**Matrícula:** 4052025000162\n",
        "\n",
        "**Dataset:**"
      ],
      "metadata": {
        "id": "0Bn0pnCGBgX6"
      }
    },
    {
      "cell_type": "code",
      "execution_count": null,
      "metadata": {
        "id": "HuLTnUyABQsB"
      },
      "outputs": [],
      "source": []
    }
  ]
}