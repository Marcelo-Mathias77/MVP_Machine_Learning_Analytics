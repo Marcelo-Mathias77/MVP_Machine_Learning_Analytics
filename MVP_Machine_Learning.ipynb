{
  "nbformat": 4,
  "nbformat_minor": 0,
  "metadata": {
    "colab": {
      "provenance": [],
      "collapsed_sections": [
        "0Bn0pnCGBgX6",
        "3brVBgScSPKp",
        "BUxdFSbpSbW3",
        "9rjNKPDCTTka"
      ],
      "toc_visible": true,
      "authorship_tag": "ABX9TyMpgq6xZwxpdfxAixiu43Hc",
      "include_colab_link": true
    },
    "kernelspec": {
      "name": "python3",
      "display_name": "Python 3"
    },
    "language_info": {
      "name": "python"
    }
  },
  "cells": [
    {
      "cell_type": "markdown",
      "metadata": {
        "id": "view-in-github",
        "colab_type": "text"
      },
      "source": [
        "<a href=\"https://colab.research.google.com/github/Marcelo-Mathias77/MVP_Machine_Learning_Analytics/blob/main/MVP_Machine_Learning.ipynb\" target=\"_parent\"><img src=\"https://colab.research.google.com/assets/colab-badge.svg\" alt=\"Open In Colab\"/></a>"
      ]
    },
    {
      "cell_type": "markdown",
      "source": [
        "# **MVP Machine Learning & Analytics**\n",
        "\n",
        "**Nome:** Marcelo Chagas Mathias Netto\n",
        "\n",
        "**Matrícula:** 4052025000162\n",
        "\n",
        "**Dataset:** [Banking Marketing](https://archive.ics.uci.edu/dataset/222/bank+marketing)"
      ],
      "metadata": {
        "id": "0Bn0pnCGBgX6"
      }
    },
    {
      "cell_type": "markdown",
      "source": [
        "**Projeto de Classificação com o Dataset Bank Marketing**\n",
        "\n",
        "Este notebook serve como relatório e implementação para o projeto final da disciplina de Machine Learning & Analytics. O objetivo principal é treinar um modelo de Machine Learning para resolver um problema de classificação no domínio de marketing bancário, utilizando o dataset \"Bank Marketing\" do repositório UCI.\n"
      ],
      "metadata": {
        "id": "pGGBXmxTEL4x"
      }
    },
    {
      "cell_type": "markdown",
      "source": [
        "# Configuração Inicial e Importação de Bibliotecas"
      ],
      "metadata": {
        "id": "3brVBgScSPKp"
      }
    },
    {
      "cell_type": "code",
      "execution_count": null,
      "metadata": {
        "colab": {
          "base_uri": "https://localhost:8080/"
        },
        "id": "HuLTnUyABQsB",
        "outputId": "d13c867f-f365-475f-b0f5-751c4410c4be"
      },
      "outputs": [
        {
          "output_type": "stream",
          "name": "stdout",
          "text": [
            "Bibliotecas importadas e seed fixada.\n"
          ]
        }
      ],
      "source": [
        "# -*- coding: utf-8 -*-\n",
        "\n",
        "import pandas as pd\n",
        "import numpy as np\n",
        "import matplotlib.pyplot as plt\n",
        "import seaborn as sns\n",
        "import time # Para medir tempo de treinamento\n",
        "import requests # Para fazer o download do arquivo zip\n",
        "import zipfile # Para manipular o arquivo zip\n",
        "import io # Para ler o arquivo zip na memória\n",
        "\n",
        "from sklearn.model_selection import train_test_split, GridSearchCV, cross_val_score\n",
        "from sklearn.preprocessing import StandardScaler, OneHotEncoder\n",
        "from sklearn.compose import ColumnTransformer\n",
        "from sklearn.pipeline import Pipeline\n",
        "from sklearn.metrics import classification_report, confusion_matrix, roc_auc_score, roc_curve, accuracy_score\n",
        "\n",
        "from sklearn.linear_model import LogisticRegression\n",
        "from sklearn.ensemble import RandomForestClassifier\n",
        "import xgboost as xgb\n",
        "\n",
        "# Fixa a seed para reprodutibilidade\n",
        "SEED = 42\n",
        "np.random.seed(SEED)\n",
        "\n",
        "print(\"Bibliotecas importadas e seed fixada.\")"
      ]
    },
    {
      "cell_type": "markdown",
      "source": [
        "# 1. Definição do Problema"
      ],
      "metadata": {
        "id": "BUxdFSbpSbW3"
      }
    },
    {
      "cell_type": "markdown",
      "source": [
        "### Objetivo:\n",
        "O principal objetivo deste projeto é desenvolver e avaliar modelos de Machine Learning capazes de prever se um cliente de um banco, que foi contatado em uma campanha de marketing direto, irá assinar um depósito a prazo. Este é um problema de **classificação binária**, onde a variável-alvo `y` indica se o cliente subscreveu (sim) ou não (não).\n",
        "\n",
        "### Descrição do problema:\n",
        "O problema consiste em prever o sucesso de futuras campanhas de marketing bancário. Ao identificar quais clientes são mais propensos a assinar um depósito a prazo, o banco pode otimizar seus esforços de marketing, direcionando recursos para os clientes com maior probabilidade de conversão e, assim, aumentando a eficiência e reduzindo custos.\n",
        "\n",
        "### Premissas ou hipóteses sobre o problema:\n",
        "1.  **Dados Históricos como Preditores:** As características demográficas, econômicas e de histórico de contato dos clientes observadas em campanhas anteriores são bons indicadores do comportamento futuro.\n",
        "2.  **Influência do Contato:** A duração e o número de contatos, bem como o resultado da campanha anterior, são fatores cruciais na decisão do cliente.\n",
        "3.  **Heterogeneidade dos Clientes:** Diferentes perfis de clientes (idade, emprego, estado civil, educação) responderão de forma distinta às campanhas.\n",
        "\n",
        "### Que restrições ou condições foram impostas para selecionar os dados?\n",
        "O dataset \"Bank Marketing\" foi selecionado com base nas seguintes condições:\n",
        "* É um problema de **classificação** (binária, especificamente).\n",
        "* Contém **dados tabulares**, o que é comum em problemas de negócio.\n",
        "* Possui um número significativo de **instâncias (mais de 5000)**, permitindo um treinamento robusto dos modelos.\n",
        "* É publicamente disponível no **UCI Machine Learning Repository**, facilitando a carga via URL.\n",
        "\n",
        "### Descrição do dataset (atributos, imagens, anotações, etc).\n",
        "O dataset \"Bank Marketing\" contém dados de campanhas de marketing direto (baseadas em chamadas telefônicas) de uma instituição bancária portuguesa. O objetivo dessas campanhas era a subscrição de um produto bancário – o depósito a prazo.\n",
        "\n",
        "O dataset completo (`bank-additional-full.csv`) possui **41.188 instâncias** (clientes) e **21 atributos**, incluindo a variável-alvo. Os atributos podem ser categorizados em:\n",
        "\n",
        "1.  **Dados do Cliente (Demográficos e Financeiros):**\n",
        "    * `age`: Idade do cliente (numérica).\n",
        "    * `job`: Tipo de trabalho (categórica: 'admin.', 'blue-collar', 'entrepreneur', 'housemaid', 'management', 'retired', 'self-employed', 'services', 'student', 'technician', 'unemployed', 'unknown').\n",
        "    * `marital`: Estado civil (categórica: 'divorced', 'married', 'single', 'unknown').\n",
        "    * `education`: Nível de educação (categórica: 'basic.4y', 'basic.6y', 'basic.9y', 'high.school', 'illiterate', 'professional.course', 'university.degree', 'unknown').\n",
        "    * `default`: Se tem crédito em default (categórica: 'no', 'yes', 'unknown').\n",
        "    * `housing`: Se tem empréstimo habitacional (categórica: 'no', 'yes', 'unknown').\n",
        "    * `loan`: Se tem empréstimo pessoal (categórica: 'no', 'yes', 'unknown').\n",
        "\n",
        "2.  **Dados da Campanha de Último Contato:**\n",
        "    * `contact`: Tipo de comunicação de contato (categórica: 'cellular', 'telephone').\n",
        "    * `month`: Mês do último contato do ano (categórica: 'jan', 'feb', 'mar', ..., 'nov', 'dec').\n",
        "    * `day_of_week`: Dia da semana do último contato (categórica: 'mon', 'tue', 'wed', 'thu', 'fri').\n",
        "    * `duration`: Duração do último contato em segundos (numérica). **Importante**: Este atributo é uma fonte de vazamento de dados se for incluído na predição para *futuras* chamadas, pois a duração só é conhecida após o término da chamada. No entanto, para análise retrospectiva, é um forte preditor. Manteremos, mas com a ressalva.\n",
        "\n",
        "3.  **Dados de Campanhas Anteriores:**\n",
        "    * `campaign`: Número de contatos realizados durante esta campanha para este cliente (numérica).\n",
        "    * `pdays`: Número de dias desde o último contato da campanha anterior (numérica: 999 significa que o cliente não foi contatado anteriormente).\n",
        "    * `previous`: Número de contatos realizados antes desta campanha para este cliente (numérica).\n",
        "    * `poutcome`: Resultado da campanha de marketing anterior (categórica: 'failure', 'nonexistent', 'success').\n",
        "\n",
        "4.  **Atributos de Contexto Social e Econômico:**\n",
        "    * `emp.var.rate`: Taxa de variação do emprego (numérica).\n",
        "    * `cons.price.idx`: Índice de preços ao consumidor (numérica).\n",
        "    * `cons.conf.idx`: Índice de confiança do consumidor (numérica).\n",
        "    * `euribor3m`: Taxa Euribor 3 meses (numérica).\n",
        "    * `nr.employed`: Número de empregados (numérica).\n",
        "\n",
        "5.  **Variável-Alvo:**\n",
        "    * `y`: O cliente subscreveu um depósito a prazo? (categórica: 'yes', 'no')."
      ],
      "metadata": {
        "id": "hXkym1lpFeAP"
      }
    },
    {
      "cell_type": "markdown",
      "source": [
        "# 2. Carga e Exploração de Dados"
      ],
      "metadata": {
        "id": "CP8I7k4WTDUp"
      }
    },
    {
      "cell_type": "code",
      "source": [
        "# Nesta seção, carregaremos o dataset diretamente de uma URL e realizaremos uma exploração inicial para entender sua estrutura, identificar tipos de dados, valores ausentes e a distribuição das variáveis.\n",
        "\n",
        "# URL do dataset completo\n",
        "DATA_URL = 'https://archive.ics.uci.edu/ml/machine-learning-databases/00222/bank-additional.zip'\n",
        "\n",
        "try:\n",
        "    # Faz o download do conteúdo do arquivo zip\n",
        "    response = requests.get(DATA_URL)\n",
        "    response.raise_for_status() # Lança um erro para códigos de status HTTP ruins\n",
        "\n",
        "    # Abre o arquivo zip na memória\n",
        "    with zipfile.ZipFile(io.BytesIO(response.content)) as z:\n",
        "        # Pega o nome do arquivo CSV que queremos dentro do zip\n",
        "        csv_file_name = [f for f in z.namelist() if f.endswith('bank-additional-full.csv')][0]\n",
        "\n",
        "        # Lê o CSV diretamente do arquivo zip\n",
        "        with z.open(csv_file_name) as f:\n",
        "            df = pd.read_csv(f, sep=';')\n",
        "\n",
        "    print(\"Dataset carregado com sucesso!\")\n",
        "\n",
        "except Exception as e:\n",
        "    print(f\"Erro ao carregar o dataset: {e}\")\n",
        "    # Se a primeira abordagem falhar, tentar uma abordagem mais robusta para URLs.\n",
        "    print(\"Tentando carregar o arquivo CSV diretamente...\")\n",
        "    df = pd.read_csv('https://archive.ics.uci.edu/ml/machine-learning-databases/00222/bank-additional/bank-additional-full.csv', sep=';')\n",
        "\n",
        "    print(\"Dataset carregado via URL direta do CSV!\")"
      ],
      "metadata": {
        "colab": {
          "base_uri": "https://localhost:8080/"
        },
        "id": "HlKeUJJSPzLY",
        "outputId": "d612dbbc-19c7-44ed-cd2c-0a5a72c32a44"
      },
      "execution_count": null,
      "outputs": [
        {
          "output_type": "stream",
          "name": "stdout",
          "text": [
            "Dataset carregado com sucesso!\n"
          ]
        }
      ]
    },
    {
      "cell_type": "code",
      "source": [
        "# Exibindo as primeiras linhas do dataset\n",
        "print(\"\\n--- Primeiras 5 linhas do dataset ---\")\n",
        "print(df.head())"
      ],
      "metadata": {
        "colab": {
          "base_uri": "https://localhost:8080/"
        },
        "id": "EV4FWqBcPRVs",
        "outputId": "8fb2ba81-7fac-41be-8b2b-cb7ef28f70cc"
      },
      "execution_count": null,
      "outputs": [
        {
          "output_type": "stream",
          "name": "stdout",
          "text": [
            "\n",
            "--- Primeiras 5 linhas do dataset ---\n",
            "   age        job  marital    education  default housing loan    contact  \\\n",
            "0   56  housemaid  married     basic.4y       no      no   no  telephone   \n",
            "1   57   services  married  high.school  unknown      no   no  telephone   \n",
            "2   37   services  married  high.school       no     yes   no  telephone   \n",
            "3   40     admin.  married     basic.6y       no      no   no  telephone   \n",
            "4   56   services  married  high.school       no      no  yes  telephone   \n",
            "\n",
            "  month day_of_week  ...  campaign  pdays  previous     poutcome emp.var.rate  \\\n",
            "0   may         mon  ...         1    999         0  nonexistent          1.1   \n",
            "1   may         mon  ...         1    999         0  nonexistent          1.1   \n",
            "2   may         mon  ...         1    999         0  nonexistent          1.1   \n",
            "3   may         mon  ...         1    999         0  nonexistent          1.1   \n",
            "4   may         mon  ...         1    999         0  nonexistent          1.1   \n",
            "\n",
            "   cons.price.idx  cons.conf.idx  euribor3m  nr.employed   y  \n",
            "0          93.994          -36.4      4.857       5191.0  no  \n",
            "1          93.994          -36.4      4.857       5191.0  no  \n",
            "2          93.994          -36.4      4.857       5191.0  no  \n",
            "3          93.994          -36.4      4.857       5191.0  no  \n",
            "4          93.994          -36.4      4.857       5191.0  no  \n",
            "\n",
            "[5 rows x 21 columns]\n"
          ]
        }
      ]
    },
    {
      "cell_type": "code",
      "source": [
        "# Verificando informações gerais do dataset\n",
        "print(\"\\n--- Informações gerais do dataset ---\")\n",
        "print(df.info())"
      ],
      "metadata": {
        "colab": {
          "base_uri": "https://localhost:8080/"
        },
        "id": "1gICBLxlQJ00",
        "outputId": "463442e1-d4a0-4a4d-fda2-3bd37f2551b1"
      },
      "execution_count": null,
      "outputs": [
        {
          "output_type": "stream",
          "name": "stdout",
          "text": [
            "\n",
            "--- Informações gerais do dataset ---\n",
            "<class 'pandas.core.frame.DataFrame'>\n",
            "RangeIndex: 41188 entries, 0 to 41187\n",
            "Data columns (total 21 columns):\n",
            " #   Column          Non-Null Count  Dtype  \n",
            "---  ------          --------------  -----  \n",
            " 0   age             41188 non-null  int64  \n",
            " 1   job             41188 non-null  object \n",
            " 2   marital         41188 non-null  object \n",
            " 3   education       41188 non-null  object \n",
            " 4   default         41188 non-null  object \n",
            " 5   housing         41188 non-null  object \n",
            " 6   loan            41188 non-null  object \n",
            " 7   contact         41188 non-null  object \n",
            " 8   month           41188 non-null  object \n",
            " 9   day_of_week     41188 non-null  object \n",
            " 10  duration        41188 non-null  int64  \n",
            " 11  campaign        41188 non-null  int64  \n",
            " 12  pdays           41188 non-null  int64  \n",
            " 13  previous        41188 non-null  int64  \n",
            " 14  poutcome        41188 non-null  object \n",
            " 15  emp.var.rate    41188 non-null  float64\n",
            " 16  cons.price.idx  41188 non-null  float64\n",
            " 17  cons.conf.idx   41188 non-null  float64\n",
            " 18  euribor3m       41188 non-null  float64\n",
            " 19  nr.employed     41188 non-null  float64\n",
            " 20  y               41188 non-null  object \n",
            "dtypes: float64(5), int64(5), object(11)\n",
            "memory usage: 6.6+ MB\n",
            "None\n"
          ]
        }
      ]
    },
    {
      "cell_type": "code",
      "source": [
        "# Estatísticas descritivas das variáveis numéricas\n",
        "print(\"\\n--- Estatísticas descritivas do dataset ---\")\n",
        "print(df.describe())"
      ],
      "metadata": {
        "colab": {
          "base_uri": "https://localhost:8080/"
        },
        "id": "J_nbWucsQPM2",
        "outputId": "b7b9b010-f9f6-489a-9408-5a3f06f62bdd"
      },
      "execution_count": null,
      "outputs": [
        {
          "output_type": "stream",
          "name": "stdout",
          "text": [
            "\n",
            "--- Estatísticas descritivas do dataset ---\n",
            "               age      duration      campaign         pdays      previous  \\\n",
            "count  41188.00000  41188.000000  41188.000000  41188.000000  41188.000000   \n",
            "mean      40.02406    258.285010      2.567593    962.475454      0.172963   \n",
            "std       10.42125    259.279249      2.770014    186.910907      0.494901   \n",
            "min       17.00000      0.000000      1.000000      0.000000      0.000000   \n",
            "25%       32.00000    102.000000      1.000000    999.000000      0.000000   \n",
            "50%       38.00000    180.000000      2.000000    999.000000      0.000000   \n",
            "75%       47.00000    319.000000      3.000000    999.000000      0.000000   \n",
            "max       98.00000   4918.000000     56.000000    999.000000      7.000000   \n",
            "\n",
            "       emp.var.rate  cons.price.idx  cons.conf.idx     euribor3m   nr.employed  \n",
            "count  41188.000000    41188.000000   41188.000000  41188.000000  41188.000000  \n",
            "mean       0.081886       93.575664     -40.502600      3.621291   5167.035911  \n",
            "std        1.570960        0.578840       4.628198      1.734447     72.251528  \n",
            "min       -3.400000       92.201000     -50.800000      0.634000   4963.600000  \n",
            "25%       -1.800000       93.075000     -42.700000      1.344000   5099.100000  \n",
            "50%        1.100000       93.749000     -41.800000      4.857000   5191.000000  \n",
            "75%        1.400000       93.994000     -36.400000      4.961000   5228.100000  \n",
            "max        1.400000       94.767000     -26.900000      5.045000   5228.100000  \n"
          ]
        }
      ]
    },
    {
      "cell_type": "code",
      "source": [
        "# Verificando a contagem de valores únicos para cada coluna categórica\n",
        "print(\"\\n--- Contagem de valores únicos para colunas categóricas ---\")\n",
        "for column in df.select_dtypes(include='object').columns:\n",
        "    print(f\"{column}: {df[column].nunique()} valores únicos\")"
      ],
      "metadata": {
        "colab": {
          "base_uri": "https://localhost:8080/"
        },
        "id": "QREbIZboQR4v",
        "outputId": "48220eae-499b-44c2-aaf5-04217ae212b7"
      },
      "execution_count": null,
      "outputs": [
        {
          "output_type": "stream",
          "name": "stdout",
          "text": [
            "\n",
            "--- Contagem de valores únicos para colunas categóricas ---\n",
            "job: 12 valores únicos\n",
            "marital: 4 valores únicos\n",
            "education: 8 valores únicos\n",
            "default: 3 valores únicos\n",
            "housing: 3 valores únicos\n",
            "loan: 3 valores únicos\n",
            "contact: 2 valores únicos\n",
            "month: 10 valores únicos\n",
            "day_of_week: 5 valores únicos\n",
            "poutcome: 3 valores únicos\n",
            "y: 2 valores únicos\n"
          ]
        }
      ]
    },
    {
      "cell_type": "code",
      "source": [
        "# Verificando valores ausentes\n",
        "print(\"\\n--- Verificando valores ausentes ---\")\n",
        "print(df.isnull().sum())"
      ],
      "metadata": {
        "colab": {
          "base_uri": "https://localhost:8080/"
        },
        "id": "uQNJi5DKQWRe",
        "outputId": "cd946c8c-284a-4eaa-a419-4ff403876e58"
      },
      "execution_count": null,
      "outputs": [
        {
          "output_type": "stream",
          "name": "stdout",
          "text": [
            "\n",
            "--- Verificando valores ausentes ---\n",
            "age               0\n",
            "job               0\n",
            "marital           0\n",
            "education         0\n",
            "default           0\n",
            "housing           0\n",
            "loan              0\n",
            "contact           0\n",
            "month             0\n",
            "day_of_week       0\n",
            "duration          0\n",
            "campaign          0\n",
            "pdays             0\n",
            "previous          0\n",
            "poutcome          0\n",
            "emp.var.rate      0\n",
            "cons.price.idx    0\n",
            "cons.conf.idx     0\n",
            "euribor3m         0\n",
            "nr.employed       0\n",
            "y                 0\n",
            "dtype: int64\n"
          ]
        }
      ]
    },
    {
      "cell_type": "markdown",
      "source": [
        "### Observações Iniciais:\n",
        "* O dataset foi carregado com sucesso, contendo **41.188 entradas** e **21 colunas**.\n",
        "* Não há **valores ausentes** em nenhuma coluna, o que simplifica a etapa de limpeza de dados.\n",
        "* A maioria das colunas categóricas possui valores como 'unknown', que precisarão ser tratados ou considerados durante o pré-processamento.\n",
        "* A coluna `duration` (duração do último contato) é uma variável numérica crucial, mas que apresenta o desafio de ser uma \"feature de vazamento\" se usada para prever o sucesso *futuras* chamadas, pois a duração só é conhecida *após* a chamada. Para este trabalho, a manteremos, mas é importante ter essa ressalva em mente.\n",
        "* A variável-alvo `y` é do tipo 'object' ('yes'/'no') e precisará ser convertida para um formato numérico (0/1)."
      ],
      "metadata": {
        "id": "DT68vz8tQdDQ"
      }
    },
    {
      "cell_type": "code",
      "source": [
        "# Visualização da distribuição da variável alvo 'y'\n",
        "plt.figure(figsize=(6, 4))\n",
        "sns.countplot(x='y', data=df)\n",
        "plt.title('Distribuição da Variável Alvo (y)')\n",
        "plt.xlabel('Subscrição de Depósito a Prazo')\n",
        "plt.ylabel('Contagem')\n",
        "plt.grid(axis='y', linestyle='--', alpha=0.7)\n",
        "plt.show()\n",
        "\n",
        "print(\"\\n--- Proporção da Variável Alvo (y) ---\")\n",
        "print(df['y'].value_counts(normalize=True))"
      ],
      "metadata": {
        "colab": {
          "base_uri": "https://localhost:8080/",
          "height": 515
        },
        "id": "5vSKWs2VQocU",
        "outputId": "353c6494-3b1c-440d-f1fe-9389a64a22e3"
      },
      "execution_count": null,
      "outputs": [
        {
          "output_type": "display_data",
          "data": {
            "text/plain": [
              "<Figure size 600x400 with 1 Axes>"
            ],
            "image/png": "[encoded data removed]"
          },
          "metadata": {}
        },
        {
          "output_type": "stream",
          "name": "stdout",
          "text": [
            "\n",
            "--- Proporção da Variável Alvo (y) ---\n",
            "y\n",
            "no     0.887346\n",
            "yes    0.112654\n",
            "Name: proportion, dtype: float64\n"
          ]
        }
      ]
    },
    {
      "cell_type": "markdown",
      "source": [
        "### Análise da Variável Alvo:\n",
        "* A visualização da distribuição e a proporção mostram que o dataset é **altamente desbalanceado**. A classe 'no' (não subscreveu) é a maioria esmagadora (88.7%) em comparação com a classe 'yes' (11.3%).\n",
        "* Este desbalanceamento é um desafio significativo para problemas de classificação, pois modelos ingênuos podem tender a prever a classe majoritária, resultando em alta acurácia, mas baixo desempenho nas métricas importantes para a classe minoritária (e.g., recall para 'yes'). Isso precisará ser considerado na seleção das métricas de avaliação."
      ],
      "metadata": {
        "id": "XY0tKpDyQr48"
      }
    },
    {
      "cell_type": "code",
      "source": [
        "# Visualização de algumas variáveis numéricas\n",
        "plt.figure(figsize=(15, 5))\n",
        "plt.subplot(1, 3, 1)\n",
        "sns.histplot(df['age'], kde=True)\n",
        "plt.title('Distribuição de Idade')\n",
        "plt.subplot(1, 3, 2)\n",
        "sns.histplot(df['duration'], kde=True)\n",
        "plt.title('Distribuição de Duração do Contato')\n",
        "plt.subplot(1, 3, 3)\n",
        "sns.histplot(df['campaign'], kde=True)\n",
        "plt.title('Distribuição do Número de Contatos na Campanha Atual')\n",
        "plt.tight_layout()\n",
        "plt.show()"
      ],
      "metadata": {
        "colab": {
          "base_uri": "https://localhost:8080/",
          "height": 527
        },
        "id": "cVrGW_JoRitX",
        "outputId": "7ca832cb-ff63-47bb-cbe9-efb1babc8f6b"
      },
      "execution_count": null,
      "outputs": [
        {
          "output_type": "display_data",
          "data": {
            "text/plain": [
              "<Figure size 1500x500 with 3 Axes>"
            ],
            "image/png": "[encoded data removed]"
          },
          "metadata": {}
        }
      ]
    },
    {
      "cell_type": "markdown",
      "source": [
        "### Análise de Variáveis Numéricas:\n",
        "* **Idade (`age`):** A maioria dos clientes tem entre 30 e 50 anos, com uma distribuição ligeiramente inclinada para a direita.\n",
        "* **Duração (`duration`):** Fortemente inclinada para a direita, com a maioria dos contatos sendo curtos. Poucos contatos são muito longos. Isso é esperado, e como mencionado, é um preditor muito forte.\n",
        "* **Campanha (`campaign`):** A maioria dos clientes foi contatada apenas algumas vezes nesta campanha. Também é uma distribuição inclinada para a direita."
      ],
      "metadata": {
        "id": "cgJdoAajRntf"
      }
    },
    {
      "cell_type": "markdown",
      "source": [
        "# 3. Tratamento de Dados e Engenharia de Atributos"
      ],
      "metadata": {
        "id": "9rjNKPDCTTka"
      }
    },
    {
      "cell_type": "markdown",
      "source": [
        "Nesta seção, realizaremos as operações de pré-processamento necessárias para preparar os dados para a modelagem. Isso inclui a conversão da variável-alvo, tratamento de variáveis categóricas e padronização de variáveis numéricas.\n",
        "\n",
        "### Separação do dataset entre Treino e Teste\n",
        "Antes de qualquer transformação que dependa dos dados (como padronização), é crucial separar o dataset em conjuntos de treino e teste. Isso evita o **vazamento de dados** (data leakage), onde informações do conjunto de teste \"contaminam\" o processo de pré-processamento do treino, levando a uma estimativa otimista do desempenho do modelo.\n",
        "\n",
        "### Faz sentido utilizar um método de validação cruzada?\n",
        "Sim, faz total sentido utilizar **validação cruzada**. Para o tuning de hiperparâmetros, a validação cruzada (K-fold cross-validation) é essencial para obter uma estimativa mais robusta do desempenho do modelo e para evitar o overfitting nos dados de treino. Ela garante que o modelo seja avaliado em diferentes subconjuntos do conjunto de treino, tornando a escolha dos melhores hiperparâmetros menos sensível a uma única divisão. Usaremos validação cruzada em conjunto com `GridSearchCV` ou `RandomizedSearchCV` na etapa de otimização de hiperparâmetros.\n",
        "\n",
        "### Operações de transformação de dados\n",
        "Aplicaremos `StandardScaler` para variáveis numéricas e `OneHotEncoder` para variáveis categóricas.\n",
        "\n",
        "### Refine a quantidade de atributos disponíveis (Feature Selection / Feature Engineering)\n",
        "Neste projeto, optaremos por manter todas as features inicialmente disponíveis e as geradas pelo One-Hot Encoding. Para a duração (`duration`), que pode ser um vazamento de dados se usada para prever o sucesso *antes* da chamada, a manteremos porque o objetivo é prever a subscrição *dada* a duração do último contato, ou seja, analisar o resultado da campanha. No entanto, em um cenário de produção para prever o sucesso de uma *nova* chamada, `duration` não estaria disponível."
      ],
      "metadata": {
        "id": "rkAKEsRVR0Pp"
      }
    },
    {
      "cell_type": "code",
      "source": [
        "# Mapeando a variável alvo 'y' para numérica (0 e 1)\n",
        "df['y'] = df['y'].map({'no': 0, 'yes': 1})\n",
        "print(\"\\n--- Variável alvo 'y' convertida para 0 e 1 ---\")\n",
        "print(df['y'].value_counts())"
      ],
      "metadata": {
        "colab": {
          "base_uri": "https://localhost:8080/"
        },
        "id": "CPCwHrYPT7If",
        "outputId": "5707d185-b98b-4d30-824b-f26f95f8f338"
      },
      "execution_count": null,
      "outputs": [
        {
          "output_type": "stream",
          "name": "stdout",
          "text": [
            "\n",
            "--- Variável alvo 'y' convertida para 0 e 1 ---\n",
            "y\n",
            "0    36548\n",
            "1     4640\n",
            "Name: count, dtype: int64\n"
          ]
        }
      ]
    },
    {
      "cell_type": "code",
      "source": [
        "# Separando as features (X) da variável alvo (y)\n",
        "X = df.drop('y', axis=1)\n",
        "y = df['y']\n",
        "\n",
        "\n",
        "# Identificando colunas numéricas e categóricas\n",
        "numerical_features = X.select_dtypes(include=np.number).columns.tolist()\n",
        "categorical_features = X.select_dtypes(include='object').columns.tolist()\n",
        "\n",
        "print(f\"\\nVariáveis Numéricas: {numerical_features}\")\n",
        "print(f\"Variáveis Categóricas: {categorical_features}\")"
      ],
      "metadata": {
        "colab": {
          "base_uri": "https://localhost:8080/"
        },
        "id": "s4ApNBHHT9Em",
        "outputId": "befcb822-d98f-4980-9048-de3d6bc6af76"
      },
      "execution_count": null,
      "outputs": [
        {
          "output_type": "stream",
          "name": "stdout",
          "text": [
            "\n",
            "Variáveis Numéricas: ['age', 'duration', 'campaign', 'pdays', 'previous', 'emp.var.rate', 'cons.price.idx', 'cons.conf.idx', 'euribor3m', 'nr.employed']\n",
            "Variáveis Categóricas: ['job', 'marital', 'education', 'default', 'housing', 'loan', 'contact', 'month', 'day_of_week', 'poutcome']\n"
          ]
        }
      ]
    },
    {
      "cell_type": "code",
      "source": [
        "# Divisão dos dados em treino e teste (80% treino, 20% teste)\n",
        "# Usamos 'stratify=y' para garantir que a proporção da variável alvo seja mantida\n",
        "# igualmente nos conjuntos de treino e teste, o que é crucial para dados desbalanceados.\n",
        "X_train, X_test, y_train, y_test = train_test_split(X, y, test_size=0.2, random_state=SEED, stratify=y)\n",
        "\n",
        "print(f\"\\nTamanho do conjunto de treino (X_train): {X_train.shape}\")\n",
        "print(f\"Tamanho do conjunto de teste (X_test): {X_test.shape}\")\n",
        "print(f\"Proporção de 'yes' em y_train: {y_train.value_counts(normalize=True)[1]:.2f}\")\n",
        "print(f\"Proporção de 'yes' em y_test: {y_test.value_counts(normalize=True)[1]:.2f}\")"
      ],
      "metadata": {
        "colab": {
          "base_uri": "https://localhost:8080/"
        },
        "id": "BbT99Rm4Ux8P",
        "outputId": "fb6e49c1-b88d-4e40-eb91-99296347d71e"
      },
      "execution_count": null,
      "outputs": [
        {
          "output_type": "stream",
          "name": "stdout",
          "text": [
            "\n",
            "Tamanho do conjunto de treino (X_train): (32950, 20)\n",
            "Tamanho do conjunto de teste (X_test): (8238, 20)\n",
            "Proporção de 'yes' em y_train: 0.11\n",
            "Proporção de 'yes' em y_test: 0.11\n"
          ]
        }
      ]
    },
    {
      "cell_type": "code",
      "source": [
        "# Criação de pré-processadores para colunas numéricas e categóricas\n",
        "# StandardScaler para normalização das features numéricas\n",
        "# OneHotEncoder para transformar features categóricas em representação numérica (binária)\n",
        "preprocessor = ColumnTransformer(\n",
        "    transformers=[\n",
        "        ('num', StandardScaler(), numerical_features),\n",
        "        ('cat', OneHotEncoder(handle_unknown='ignore'), categorical_features)\n",
        "    ],\n",
        "    remainder='passthrough' # Mantém outras colunas que não foram transformadas (se houver)\n",
        ")\n",
        "\n",
        "print(\"\\nPré-processador (ColumnTransformer) criado.\")"
      ],
      "metadata": {
        "colab": {
          "base_uri": "https://localhost:8080/"
        },
        "id": "TMok1GvaUfVC",
        "outputId": "7284d2d1-cf21-481e-e7c9-50f534f2b40e"
      },
      "execution_count": null,
      "outputs": [
        {
          "output_type": "stream",
          "name": "stdout",
          "text": [
            "\n",
            "Pré-processador (ColumnTransformer) criado.\n"
          ]
        }
      ]
    },
    {
      "cell_type": "markdown",
      "source": [
        "# 4. Modelagem e Treinamento"
      ],
      "metadata": {
        "id": "h-QAS76HU_wi"
      }
    },
    {
      "cell_type": "markdown",
      "source": [
        "Nesta seção, selecionaremos e treinaremos diferentes algoritmos de Machine Learning para o problema de classificação. Utilizaremos pipelines para garantir a reprodutibilidade e a aplicação correta das transformações de dados antes do treinamento do modelo.\n",
        "\n",
        "### Seleção dos algoritmos mais indicados\n",
        "Escolhemos os seguintes algoritmos, justificando suas escolhas:\n",
        "\n",
        "1.  **Logistic Regression (Regressão Logística):**\n",
        "    * **Justificativa:** É um modelo linear simples, rápido de treinar e fácil de interpretar. Serve como um excelente **baseline** para comparar o desempenho de modelos mais complexos. Apesar de sua simplicidade, muitas vezes apresenta um desempenho razoável em problemas de classificação.\n",
        "\n",
        "2.  **Random Forest Classifier (Floresta Aleatória):**\n",
        "    * **Justificativa:** É um modelo de ensemble baseado em árvores de decisão. É robusto a overfitting (quando bem ajustado), lida bem com dados não lineares e interações entre features, e é menos sensível a ruídos. Geralmente, oferece bom desempenho em datasets tabulares.\n",
        "\n",
        "3.  **XGBoost Classifier (Extreme Gradient Boosting):**\n",
        "    * **Justificativa:** É uma implementação otimizada de gradient boosting, conhecida por sua alta performance e eficiência. É frequentemente o modelo vencedor em competições de Machine Learning com dados tabulares. Lida bem com dados desbalanceados e oferece flexibilidade no ajuste de parâmetros.\n",
        "\n",
        "### Ajuste inicial para os hiperparâmetros\n",
        "Para a primeira rodada de treinamento, utilizaremos os hiperparâmetros padrão ou valores razoáveis para cada modelo. A otimização mais refinada será realizada em uma etapa posterior.\n",
        "\n",
        "### O modelo foi devidamente treinado? Foi observado problema de underfitting?\n",
        "Avaliando a performance inicial dos modelos, buscaremos sinais de `underfitting` (subajuste), que ocorre quando o modelo é muito simples para capturar a complexidade dos dados, resultando em baixo desempenho tanto no conjunto de treino quanto no de teste. Com o `Random Forest` e `XGBoost`, isso é menos comum devido à sua capacidade de modelar relações complexas."
      ],
      "metadata": {
        "id": "yhPi7s5ZVT3y"
      }
    },
    {
      "cell_type": "code",
      "source": [
        "# Criando pipelines para cada modelo\n",
        "# Cada pipeline inclui o pré-processador e o modelo de classificação\n",
        "pipeline_lr = Pipeline(steps=[('preprocessor', preprocessor),\n",
        "                              ('classifier', LogisticRegression(random_state=SEED, solver='liblinear'))])\n",
        "\n",
        "pipeline_rf = Pipeline(steps=[('preprocessor', preprocessor),\n",
        "                              ('classifier', RandomForestClassifier(random_state=SEED))])\n",
        "\n",
        "pipeline_xgb = Pipeline(steps=[('preprocessor', preprocessor),\n",
        "                               ('classifier', xgb.XGBClassifier(random_state=SEED, use_label_encoder=False, eval_metric='logloss'))])\n",
        "\n",
        "\n",
        "print(\"\\nPipelines de modelagem criados para Regressão Logística, Random Forest e XGBoost.\")"
      ],
      "metadata": {
        "colab": {
          "base_uri": "https://localhost:8080/"
        },
        "id": "fHjSWOIHVkbm",
        "outputId": "95aca64d-8d13-4aac-c6e5-94ac19b3db34"
      },
      "execution_count": null,
      "outputs": [
        {
          "output_type": "stream",
          "name": "stdout",
          "text": [
            "\n",
            "Pipelines de modelagem criados para Regressão Logística, Random Forest e XGBoost.\n"
          ]
        }
      ]
    },
    {
      "cell_type": "code",
      "source": [
        "# Treinamento dos modelos e medição do tempo\n",
        "models = {\n",
        "    'Logistic Regression': pipeline_lr,\n",
        "    'Random Forest': pipeline_rf,\n",
        "    'XGBoost': pipeline_xgb\n",
        "}\n",
        "\n",
        "training_times = {}\n",
        "\n",
        "for name, model in models.items():\n",
        "    print(f\"\\n--- Treinando {name} ---\")\n",
        "    start_time = time.time()\n",
        "    model.fit(X_train, y_train)\n",
        "    end_time = time.time()\n",
        "    training_times[name] = end_time - start_time\n",
        "    print(f\"{name} treinado em {training_times[name]:.2f} segundos.\")"
      ],
      "metadata": {
        "colab": {
          "base_uri": "https://localhost:8080/"
        },
        "id": "XSUTM2_tVoZ0",
        "outputId": "ddbc862b-911b-4016-f46c-4f83006aa163"
      },
      "execution_count": null,
      "outputs": [
        {
          "output_type": "stream",
          "name": "stdout",
          "text": [
            "\n",
            "--- Treinando Logistic Regression ---\n",
            "Logistic Regression treinado em 0.51 segundos.\n",
            "\n",
            "--- Treinando Random Forest ---\n",
            "Random Forest treinado em 5.26 segundos.\n",
            "\n",
            "--- Treinando XGBoost ---\n"
          ]
        },
        {
          "output_type": "stream",
          "name": "stderr",
          "text": [
            "/usr/local/lib/python3.12/dist-packages/xgboost/training.py:183: UserWarning: [22:12:46] WARNING: /workspace/src/learner.cc:738: \n",
            "Parameters: { \"use_label_encoder\" } are not used.\n",
            "\n",
            "  bst.update(dtrain, iteration=i, fobj=obj)\n"
          ]
        },
        {
          "output_type": "stream",
          "name": "stdout",
          "text": [
            "XGBoost treinado em 0.84 segundos.\n"
          ]
        }
      ]
    },
    {
      "cell_type": "markdown",
      "source": [
        "### Análise do Treinamento Inicial:\n",
        "* Todos os modelos foram devidamente treinados sem sinais óbvios de `underfitting` (o desempenho será avaliado na próxima seção).\n",
        "* A **Regressão Logística** foi o modelo mais rápido para treinar, como esperado, devido à sua simplicidade.\n",
        "* **Random Forest** e **XGBoost** levaram mais tempo, o que é natural para modelos de ensemble que constroem múltiplas árvores e realizam otimizações iterativas.\n",
        "\n",
        "### Otimização de Hiperparâmetros\n",
        "A otimização de hiperparâmetros é crucial para maximizar o desempenho dos modelos. Utilizaremos `GridSearchCV` para explorar uma gama de hiperparâmetros para o **Random Forest** e **XGBoost**, que são modelos mais complexos e com maior potencial de ajuste.\n",
        "\n",
        "Para evitar tempo excessivo, definiremos uma grade de parâmetros razoável."
      ],
      "metadata": {
        "id": "K6cEU1z1V1--"
      }
    }
  ]
}